{
 "cells": [
  {
   "cell_type": "markdown",
   "id": "2862b09d-3d21-4e34-a745-947f6f9c37c6",
   "metadata": {},
   "source": [
    "# Author John Payne\n",
    "# Step 1\n",
    "* Generate a response using the Casseopeia wrapper"
   ]
  },
  {
   "cell_type": "code",
   "execution_count": 1,
   "id": "2821960a-bf2f-44ae-80da-8424d589f099",
   "metadata": {
    "tags": []
   },
   "outputs": [],
   "source": [
    "import requests as re\n",
    "import time\n",
    "\n",
    "def getAPI_key():\n",
    "    f = open(\"../api_key.txt\", \"r\")\n",
    "    return f.read()\n",
    "api_key = getAPI_key()"
   ]
  },
  {
   "cell_type": "code",
   "execution_count": 2,
   "id": "17bedb9e-606b-4805-bff5-d1b0f9eaabc9",
   "metadata": {
    "tags": []
   },
   "outputs": [],
   "source": [
    "def check_status():    \n",
    "    url = 'https://na1.api.riotgames.com/lol/league/v4/challengerleagues/by-queue/RANKED_SOLO_5x5'\n",
    "    header_dict = {\n",
    "        \"Accept-Charset\": \"application/x-www-form-urlencoded; charset=UTF-8\",\n",
    "        \"X-Riot-Token\": api_key\n",
    "    }\n",
    "    \n",
    "\n",
    "    return re.get(url, headers = header_dict).status_code"
   ]
  },
  {
   "cell_type": "code",
   "execution_count": 3,
   "id": "9c2a9a83-61fc-4181-a6bd-8fee333dd66e",
   "metadata": {},
   "outputs": [
    {
     "data": {
      "text/plain": [
       "200"
      ]
     },
     "execution_count": 3,
     "metadata": {},
     "output_type": "execute_result"
    }
   ],
   "source": [
    "check_status()"
   ]
  },
  {
   "cell_type": "code",
   "execution_count": 4,
   "id": "3bf3eefd-d490-4c89-8270-73673256e260",
   "metadata": {
    "tags": []
   },
   "outputs": [],
   "source": [
    "def get_challenger_player_stats():\n",
    "    url = 'https://na1.api.riotgames.com/lol/league/v4/challengerleagues/by-queue/RANKED_SOLO_5x5'\n",
    "    header_dict = {\n",
    "        \"Accept-Charset\": \"application/x-www-form-urlencoded; charset=UTF-8\",\n",
    "        \"X-Riot-Token\": api_key\n",
    "    }\n",
    "\n",
    "    \n",
    "    return re.get(url, headers = header_dict).json()"
   ]
  },
  {
   "cell_type": "code",
   "execution_count": 5,
   "id": "6256c80e-fb68-4a56-945c-1697dd1bd5ca",
   "metadata": {
    "tags": []
   },
   "outputs": [],
   "source": [
    "challenger_ladder = get_challenger_player_stats()"
   ]
  },
  {
   "cell_type": "code",
   "execution_count": 6,
   "id": "eb8d9978-3319-48fe-98ab-d112d1de088d",
   "metadata": {
    "tags": []
   },
   "outputs": [],
   "source": [
    "def get_challenger_player_id(player_id):\n",
    "    \n",
    "    #Using league_v4 \n",
    "    url = 'https://na1.api.riotgames.com/lol/summoner/v4/summoners/' + player_id\n",
    "    header_dict = {\n",
    "        \"Accept-Charset\": \"application/x-www-form-urlencoded; charset=UTF-8\",\n",
    "        \"X-Riot-Token\": api_key\n",
    "    }\n",
    "    \n",
    "\n",
    "        \n",
    "    return re.get(url, headers = header_dict).json()"
   ]
  },
  {
   "cell_type": "code",
   "execution_count": 7,
   "id": "1767b0b6-193f-42f7-a477-709892c373d3",
   "metadata": {
    "tags": []
   },
   "outputs": [],
   "source": [
    "def get_matches(puuid, startTime_Unix, endTime_Unix):\n",
    "    url = 'https://americas.api.riotgames.com/lol/match/v5/matches/by-puuid/' + puuid + '/ids'\n",
    "    header_dict = {\n",
    "        \"Accept-Charset\": \"application/x-www-form-urlencoded; charset=UTF-8\",\n",
    "        \"X-Riot-Token\": api_key\n",
    "    }\n",
    "    \n",
    "    params_dict = {\n",
    "        #Only picking games played on patch 12.15, 08-10-2022 to 0-24-2022\n",
    "        'startTime' : startTime_Unix,\n",
    "        'endTime' : endTime_Unix,\n",
    "        \n",
    "        #Only picking ranked 5v5 games\n",
    "        'queue' : 420,\n",
    "        'type' : 'ranked',\n",
    "        \n",
    "        #Only grabbing the first 50 results\n",
    "        'start' : 0,\n",
    "        'count' : 50\n",
    "    }\n",
    "    return re.get(url, headers = header_dict, params = params_dict).json()"
   ]
  },
  {
   "cell_type": "code",
   "execution_count": 8,
   "id": "beb100a9-81ff-4e13-8eda-16c0bd900f92",
   "metadata": {
    "tags": []
   },
   "outputs": [],
   "source": [
    "class Summoner:\n",
    "    \n",
    "    def __init__(self, summonerId, startTime_Unix, endTime_Unix):\n",
    "        self.summonerId = summonerId\n",
    "        \n",
    "        #Looping through the ladder until a match is found with the input summoner id\n",
    "        for value in challenger_ladder['entries']:\n",
    "            if value['summonerId'] == self.summonerId:\n",
    "                \n",
    "                #Once correct player is found assign lp, wins, losses, winstreak, and ign to the player\n",
    "                self.leaguepoints = value['leaguePoints']\n",
    "                self.wins = value['wins']\n",
    "                self.losses = value['losses']\n",
    "                self.hotStreak = value['hotStreak']\n",
    "                self.summonerName = value['summonerName']\n",
    "        \n",
    "        #Finds all the accounts of the player in dictionary format\n",
    "        self.accounts = get_challenger_player_id(summonerId)\n",
    "        #Finds the puuid of the player\n",
    "        self.puuid = self.accounts['puuid']\n",
    "        #Finds the players summoner level\n",
    "        self.summonerLevel = self.accounts['summonerLevel']\n",
    "        \n",
    "        #Returns a list of matches the player has played based on the parameters in the get_matches function\n",
    "        self.matches = get_matches(self.puuid, startTime_Unix, endTime_Unix)\n",
    "        \n",
    "        #Total games played by this summoner on this specific patch\n",
    "        self.total_matches = len(self.matches)\n",
    "        \n",
    "    "
   ]
  },
  {
   "cell_type": "code",
   "execution_count": 9,
   "id": "7cbce24f-f97a-47bb-9fa9-57271a3387f6",
   "metadata": {
    "tags": []
   },
   "outputs": [
    {
     "name": "stdout",
     "output_type": "stream",
     "text": [
      "0\n",
      "1\n"
     ]
    }
   ],
   "source": [
    "player_info = {}\n",
    "for i in range(2):\n",
    "    temp = 'summoner' + str(i)\n",
    "    player_info[temp] = Summoner(challenger_ladder['entries'][i]['summonerId'], 1660125600, 1661335200)\n",
    "    print(i)\n",
    "    time.sleep(1)"
   ]
  },
  {
   "cell_type": "code",
   "execution_count": 10,
   "id": "8b675888-b3db-45d1-afca-e7acc7e032df",
   "metadata": {
    "tags": []
   },
   "outputs": [],
   "source": [
    "def get_match_info(match):\n",
    "    url = 'https://americas.api.riotgames.com/lol/match/v5/matches/' + match\n",
    "    header_dict = {\n",
    "        \"Accept-Charset\": \"application/x-www-form-urlencoded; charset=UTF-8\",\n",
    "        \"X-Riot-Token\": api_key\n",
    "    }\n",
    "    \n",
    "    return re.get(url, headers = header_dict).json()"
   ]
  },
  {
   "cell_type": "code",
   "execution_count": 21,
   "id": "cfe69ddc-71ce-4e2c-b748-9bd7306cf35f",
   "metadata": {
    "tags": []
   },
   "outputs": [],
   "source": [
    "class Match_details:\n",
    "    \n",
    "    def __init__(self, Match_id):\n",
    "        self.Match_id = Match_id\n",
    "        \n",
    "        #Calling matchesV5 api\n",
    "        self.call = get_match_info(Match_id)\n",
    "        \n",
    "        #Storing api call and filtering out uneeded data\n",
    "        self.Match_info = self.call['info']\n",
    "        \n",
    "        #list of dictionaries including stats for each player\n",
    "        self.players = self.Match_info['participants']\n",
    "        \n",
    "        #Tracking team information\n",
    "        self.team1 = self.Match_info['teams'][0]\n",
    "        self.team2 = self.Match_info['teams'][1]\n",
    "        \n",
    "        #Storing winning and losing team\n",
    "        self.team1_win = self.team1['win']\n",
    "        self.team2_win = self.team2['win']\n",
    "        \n",
    "        #Storing bans for each team\n",
    "        self.team2_bans = self.team1['bans']\n",
    "        self.team2_bans = self.team1['bans']\n",
    "      \n",
    "        #Creating a list of encrypted summoner ids\n",
    "        self.summoner_Id = []\n",
    "        for i, player in enumerate(self.players):\n",
    "            self.summoner_Id.append(player['summonerId'])\n",
    "        \n",
    "        #Creating a player class to hold data on each player in the game\n",
    "        class Player:\n",
    "    \n",
    "            def __init__(self, summoner_Id, players):\n",
    "                self.summoner_Id = summoner_Id\n",
    "                # Holds lane, champion and team of given player\n",
    "                self.players = players\n",
    "                for value in self.players:\n",
    "                    if value['summonerId'] == self.summoner_Id:\n",
    "                        self.Lane = value['individualPosition']\n",
    "                        self.championId = value['championId'] \n",
    "                        self.teamId = value['teamId']\n",
    "                        if self.teamId == 100:\n",
    "                            self.teamId = 'team1'\n",
    "                        elif self.teamId == 200:\n",
    "                            self.teamId = 'team2'\n",
    "                #Grabbing winrate/winstreak/rank/lp of the given player        \n",
    "                self.player_stats = get_player_stats(self.summoner_Id)\n",
    "        \n",
    "        #Creating a dictionary to hold all the player information (lane, champion, team)\n",
    "        self.player_position = {}\n",
    "        for i, summoner_Id in enumerate(self.summoner_Id):\n",
    "            temp = 'Player' + str(i)\n",
    "            self.player_position[temp] = Player(summoner_Id, self.players)\n",
    "            "
   ]
  },
  {
   "cell_type": "code",
   "execution_count": 12,
   "id": "ce01f76a-0864-42f1-a572-b4752279daa7",
   "metadata": {},
   "outputs": [],
   "source": [
    "#Getting matches for each player listed in player_info\n",
    "games = []\n",
    "for key in player_info:\n",
    "    games.append(player_info[key].matches)"
   ]
  },
  {
   "cell_type": "code",
   "execution_count": 13,
   "id": "144bb98e-3ca3-4586-bb85-60adbbfd3e59",
   "metadata": {},
   "outputs": [],
   "source": [
    "#Joining together the sublists (games of each player)\n",
    "total_games = []\n",
    "for a in range(len(games)):\n",
    "    for b in range (len(games[a])):\n",
    "        total_games.append(games[a][b])"
   ]
  },
  {
   "cell_type": "code",
   "execution_count": 14,
   "id": "5fc20a28-6d2b-4fd5-bf40-e1b4ff4da71f",
   "metadata": {
    "tags": []
   },
   "outputs": [],
   "source": [
    "#Finding unique games\n",
    "total_games = list(set(total_games))"
   ]
  },
  {
   "cell_type": "code",
   "execution_count": 15,
   "id": "be01b348-d0d1-48a9-bfe4-5c1e035b8258",
   "metadata": {
    "tags": []
   },
   "outputs": [],
   "source": [
    "#API request to get player winrates etc.\n",
    "def get_player_stats(summoner_id):\n",
    "    url = 'https://na1.api.riotgames.com/lol/league/v4/entries/by-summoner/' + summoner_id\n",
    "    header_dict = {\n",
    "        \"Accept-Charset\": \"application/x-www-form-urlencoded; charset=UTF-8\",\n",
    "        \"X-Riot-Token\": api_key\n",
    "    }\n",
    "    return re.get(url, headers = header_dict).json()"
   ]
  },
  {
   "cell_type": "code",
   "execution_count": 36,
   "id": "bd3df576-8d77-4780-8f03-534a2ffcd996",
   "metadata": {
    "tags": []
   },
   "outputs": [
    {
     "name": "stdout",
     "output_type": "stream",
     "text": [
      "0\n",
      "1\n",
      "2\n",
      "3\n",
      "4\n",
      "5\n",
      "6\n",
      "7\n",
      "8\n",
      "9\n",
      "10\n",
      "11\n",
      "12\n",
      "13\n",
      "14\n",
      "15\n",
      "16\n",
      "17\n",
      "18\n",
      "19\n",
      "20\n",
      "21\n",
      "22\n",
      "23\n",
      "24\n",
      "25\n",
      "26\n",
      "27\n",
      "CPU times: total: 3.92 s\n",
      "Wall time: 6min 38s\n"
     ]
    }
   ],
   "source": [
    "%%time\n",
    "games = {}\n",
    "for i, game in enumerate(total_games):  \n",
    "    temp = 'Game' + str(i)\n",
    "    games[temp] = Match_details(game)\n",
    "    print(i)\n",
    "    time.sleep(10)"
   ]
  },
  {
   "cell_type": "code",
   "execution_count": null,
   "id": "5fab064a-bf3e-4d2d-9d58-efa9ca5514d8",
   "metadata": {
    "tags": []
   },
   "outputs": [],
   "source": []
  },
  {
   "cell_type": "code",
   "execution_count": 640,
   "id": "36290bdf-139b-4452-805b-525acfe8e93e",
   "metadata": {},
   "outputs": [],
   "source": []
  },
  {
   "cell_type": "code",
   "execution_count": null,
   "id": "b1cbd2d1-3c13-4065-b2f0-d36fc06ec36d",
   "metadata": {},
   "outputs": [],
   "source": []
  },
  {
   "cell_type": "code",
   "execution_count": null,
   "id": "6b228e56-df5f-4233-8ce8-8cb407df87a9",
   "metadata": {},
   "outputs": [],
   "source": []
  },
  {
   "cell_type": "code",
   "execution_count": null,
   "id": "7c695a1e-270c-43ed-8180-ca962a9aeab9",
   "metadata": {},
   "outputs": [],
   "source": []
  },
  {
   "cell_type": "code",
   "execution_count": null,
   "id": "9cd36dc2-634d-40df-8af6-d1cc38e62495",
   "metadata": {},
   "outputs": [],
   "source": []
  },
  {
   "cell_type": "code",
   "execution_count": 660,
   "id": "68c90c4e-6a4d-41e4-a250-a686ba5a8961",
   "metadata": {
    "tags": []
   },
   "outputs": [],
   "source": [
    "#What info do i want in my final dataframe?\n",
    "\n",
    "# Match Id, team1 bans, team1 picks, team1 players, team1Winrates, team2 bans, team2 picks, team2 players, winner (team1 or team2)\n",
    "# Json example\n",
    "x = {'Game_info' : [{'Team1' : [\n",
    "    {'bans' : \n",
    "    [{'Player1' : 'Wukong'}, \n",
    "    {'Player2' : 'Graves'}, \n",
    "    {'Player3' : 'Azir'}, \n",
    "    {'Player4' : 'Vayne'}, \n",
    "    {'Player5' : 'Braum'}]},\n",
    "    {'picks' : \n",
    "    [{'Player1' : 'Aatrox'}, \n",
    "    {'Player2' : 'Shyvana'}, \n",
    "    {'Player3' : 'Orianna'}, \n",
    "    {'Player4' : 'Caitlyn'}, \n",
    "    {'Player5' : 'Lux'}]},\n",
    "    {'PlayerNames' :\n",
    "    [{'Player1' : 'TopLaneDude'}, \n",
    "    {'Player2' : 'Jungleplayer123'}, \n",
    "    {'Player3' : 'JungleDiff100%'}, \n",
    "    {'Player4' : 'ADCfarmOnly'}, \n",
    "    {'Player5' : 'NoobEnchanter'}]},\n",
    "    {'PlayerWinrate' :\n",
    "    [{'Player1' : '.52'}, \n",
    "    {'Player2' : '.63'}, \n",
    "    {'Player3' : '.49'}, \n",
    "    {'Player4' : '.55'}, \n",
    "    {'Player5' : '.51'}]}]},\n",
    "     \n",
    "    {'Team2' : [\n",
    "    {'bans' : \n",
    "    [{'Player1' : 'Wukong'}, \n",
    "    {'Player2' : 'Graves'}, \n",
    "    {'Player3' : 'Azir'}, \n",
    "    {'Player4' : 'Vayne'}, \n",
    "    {'Player5' : 'Braum'}]},\n",
    "    {'picks' : \n",
    "    [{'Player1' : 'Aatrox'}, \n",
    "    {'Player2' : 'Shyvana'}, \n",
    "    {'Player3' : 'Orianna'}, \n",
    "    {'Player4' : 'Caitlyn'}, \n",
    "    {'Player5' : 'Lux'}]},\n",
    "    {'PlayerNames' :\n",
    "    [{'Player1' : 'TopLaneDude'}, \n",
    "    {'Player2' : 'Jungleplayer123'}, \n",
    "    {'Player3' : 'JungleDiff100%'}, \n",
    "    {'Player4' : 'ADCfarmOnly'}, \n",
    "    {'Player5' : 'NoobEnchanter'}]},\n",
    "    {'PlayerWinrate' :\n",
    "    [{'Player1' : '.52'}, \n",
    "    {'Player2' : '.63'}, \n",
    "    {'Player3' : '.49'}, \n",
    "    {'Player4' : '.55'}, \n",
    "    {'Player5' : '.51'}]}]},\n",
    "    {'Winner' : 'Team1'}\n",
    "    ]}\n",
    "    \n",
    " "
   ]
  },
  {
   "cell_type": "code",
   "execution_count": null,
   "id": "ff0b9501-f0c3-49d4-8688-42651a12ffae",
   "metadata": {},
   "outputs": [],
   "source": []
  },
  {
   "cell_type": "code",
   "execution_count": null,
   "id": "f89245ec-582e-4969-a5ce-272b2125552e",
   "metadata": {
    "tags": []
   },
   "outputs": [],
   "source": [
    "# Column format: Match ID, Player1 ign,, Player 2 ign, Player 3 ign, Player 4 ign, Player 5 ign, Player 6 ign, Player 7 ign, Player 8 ign, Player 9 ign, Player 10 ign\n",
    "# Player1 champion, Player 2 champion, Player 3 champion, Player 4 champion, Player 5 champion, Player 6 champion, Player 7 champion, Player 8 champion, Player 9 champion, Player 10 champion\n",
    "# Player1 role, Player 2 role, Player 3 role, Player 4 role, Player 5 role, Player 6 role, Player 7 role, Player 8 role, Player 9 role, Player 10 role\n",
    "# Player1 lp, Player 2 lp, Player 3 lp, Player 4 lp, Player 5 lp, Player 6 lp, Player 7 lp, Player 8 lp, Player 9 lp, Player 10 lp\n",
    "# Player1 ban, Player 2 ban, Player 3 ban, Player 4 ban, Player 5 ban, Player 6 ban, Player 7 ban, Player 8 ban, Player 9 ban, Player 10 ban\n",
    "# Player1 winrate, Player 2 winrate, Player 3 winrate, Player 4 winrate, Player 5 winrate, Player 6 winrate, Player 7 winrate, Player 8 winrate, Player 9 winrate, Player 10 winrate\n",
    "# Player1 total_games, Player 2 total_games, Player 3 total_games, Player 4 total_games, Player 5 total_games, Player 6 total_games, Player 7 total_games, Player 8 total_games, Player 9 total_games, Player 10 total_games\n",
    "\n",
    "#Starting features\n",
    "#Team1 total lp\n",
    "#Team2 total lp\n",
    "\n",
    "Match_details = []\n"
   ]
  },
  {
   "cell_type": "code",
   "execution_count": null,
   "id": "1e241672-8c97-4f68-b4d8-12fb8ff45731",
   "metadata": {
    "tags": []
   },
   "outputs": [],
   "source": []
  },
  {
   "cell_type": "code",
   "execution_count": 727,
   "id": "0fceb490-8b0d-4514-9e5c-5b288b3fa0de",
   "metadata": {
    "tags": []
   },
   "outputs": [],
   "source": []
  },
  {
   "cell_type": "code",
   "execution_count": null,
   "id": "682c74e7-132c-4846-b544-f6a77dbeed55",
   "metadata": {},
   "outputs": [],
   "source": []
  },
  {
   "cell_type": "code",
   "execution_count": null,
   "id": "b6175a29-c92f-4f32-9f64-737a9a79f350",
   "metadata": {},
   "outputs": [],
   "source": []
  },
  {
   "cell_type": "code",
   "execution_count": null,
   "id": "ac09e8a7-6798-4fef-a610-550534df39fe",
   "metadata": {},
   "outputs": [],
   "source": []
  },
  {
   "cell_type": "code",
   "execution_count": null,
   "id": "7d3207aa-d1de-4e73-9561-0918c7d3ad66",
   "metadata": {},
   "outputs": [],
   "source": []
  }
 ],
 "metadata": {
  "kernelspec": {
   "display_name": "League_environment",
   "language": "python",
   "name": "league_environment"
  },
  "language_info": {
   "codemirror_mode": {
    "name": "ipython",
    "version": 3
   },
   "file_extension": ".py",
   "mimetype": "text/x-python",
   "name": "python",
   "nbconvert_exporter": "python",
   "pygments_lexer": "ipython3",
   "version": "3.9.12"
  }
 },
 "nbformat": 4,
 "nbformat_minor": 5
}
