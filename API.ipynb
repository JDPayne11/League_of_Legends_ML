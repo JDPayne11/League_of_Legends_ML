{
 "cells": [
  {
   "cell_type": "markdown",
   "id": "2862b09d-3d21-4e34-a745-947f6f9c37c6",
   "metadata": {},
   "source": [
    "# Author John Payne\n",
    "# Step 1\n",
    "* Generate a response using the Casseopeia wrapper"
   ]
  },
  {
   "cell_type": "code",
   "execution_count": 541,
   "id": "2821960a-bf2f-44ae-80da-8424d589f099",
   "metadata": {},
   "outputs": [],
   "source": [
    "import requests as re\n",
    "import time\n",
    "\n",
    "def getAPI_key():\n",
    "    f = open(\"../api_key.txt\", \"r\")\n",
    "    return f.read()\n",
    "api_key = getAPI_key()"
   ]
  },
  {
   "cell_type": "code",
   "execution_count": 594,
   "id": "17bedb9e-606b-4805-bff5-d1b0f9eaabc9",
   "metadata": {},
   "outputs": [],
   "source": [
    "def check_status():    \n",
    "    url = 'https://na1.api.riotgames.com/lol/league/v4/challengerleagues/by-queue/RANKED_SOLO_5x5'\n",
    "    header_dict = {\n",
    "        \"Accept-Charset\": \"application/x-www-form-urlencoded; charset=UTF-8\",\n",
    "        \"X-Riot-Token\": api_key\n",
    "    }\n",
    "    \n",
    "\n",
    "    return re.get(url, headers = header_dict).status_code"
   ]
  },
  {
   "cell_type": "code",
   "execution_count": 595,
   "id": "9c2a9a83-61fc-4181-a6bd-8fee333dd66e",
   "metadata": {},
   "outputs": [
    {
     "data": {
      "text/plain": [
       "200"
      ]
     },
     "execution_count": 595,
     "metadata": {},
     "output_type": "execute_result"
    }
   ],
   "source": [
    "check_status()"
   ]
  },
  {
   "cell_type": "code",
   "execution_count": 544,
   "id": "3bf3eefd-d490-4c89-8270-73673256e260",
   "metadata": {},
   "outputs": [],
   "source": [
    "def get_challenger_player_stats():\n",
    "    url = 'https://na1.api.riotgames.com/lol/league/v4/challengerleagues/by-queue/RANKED_SOLO_5x5'\n",
    "    header_dict = {\n",
    "        \"Accept-Charset\": \"application/x-www-form-urlencoded; charset=UTF-8\",\n",
    "        \"X-Riot-Token\": api_key\n",
    "    }\n",
    "\n",
    "    \n",
    "    return re.get(url, headers = header_dict).json()"
   ]
  },
  {
   "cell_type": "code",
   "execution_count": 545,
   "id": "6256c80e-fb68-4a56-945c-1697dd1bd5ca",
   "metadata": {
    "tags": []
   },
   "outputs": [],
   "source": [
    "challenger_ladder = get_challenger_player_stats()"
   ]
  },
  {
   "cell_type": "code",
   "execution_count": 546,
   "id": "eb8d9978-3319-48fe-98ab-d112d1de088d",
   "metadata": {},
   "outputs": [],
   "source": [
    "def get_challenger_player_id(player_id):\n",
    "    \n",
    "    #Using league_v4 \n",
    "    url = 'https://na1.api.riotgames.com/lol/summoner/v4/summoners/' + player_id\n",
    "    header_dict = {\n",
    "        \"Accept-Charset\": \"application/x-www-form-urlencoded; charset=UTF-8\",\n",
    "        \"X-Riot-Token\": api_key\n",
    "    }\n",
    "    \n",
    "\n",
    "        \n",
    "    return re.get(url, headers = header_dict).json()"
   ]
  },
  {
   "cell_type": "code",
   "execution_count": 547,
   "id": "1767b0b6-193f-42f7-a477-709892c373d3",
   "metadata": {},
   "outputs": [],
   "source": [
    "def get_matches(puuid):\n",
    "    url = 'https://americas.api.riotgames.com/lol/match/v5/matches/by-puuid/' + puuid + '/ids'\n",
    "    header_dict = {\n",
    "        \"Accept-Charset\": \"application/x-www-form-urlencoded; charset=UTF-8\",\n",
    "        \"X-Riot-Token\": api_key\n",
    "    }\n",
    "    \n",
    "    params_dict = {\n",
    "        #Only picking games played on patch 12.15, 08-10-2022 to 0-24-2022\n",
    "        'startTime' : 1660125600,\n",
    "        'endTime' : 1661335200,\n",
    "        \n",
    "        #Only picking ranked 5v5 games\n",
    "        'queue' : 420,\n",
    "        'type' : 'ranked',\n",
    "        \n",
    "        #Only grabbing the first 50 results\n",
    "        'start' : 0,\n",
    "        'count' : 50\n",
    "    }\n",
    "    return re.get(url, headers = header_dict, params = params_dict).json()"
   ]
  },
  {
   "cell_type": "code",
   "execution_count": 548,
   "id": "beb100a9-81ff-4e13-8eda-16c0bd900f92",
   "metadata": {},
   "outputs": [],
   "source": [
    "class Summoner:\n",
    "    \n",
    "    def __init__(self, summonerId):\n",
    "        self.summonerId = summonerId\n",
    "        \n",
    "        #Looping through the ladder until a match is found with the input summoner id\n",
    "        for value in challenger_ladder['entries']:\n",
    "            if value['summonerId'] == self.summonerId:\n",
    "                \n",
    "                #Once correct player is found assign lp, wins, losses, winstreak, and ign to the player\n",
    "                self.leaguepoints = value['leaguePoints']\n",
    "                self.wins = value['wins']\n",
    "                self.losses = value['losses']\n",
    "                self.hotStreak = value['hotStreak']\n",
    "                self.summonerName = value['summonerName']\n",
    "        \n",
    "        #Finds all the accounts of the player in dictionary format\n",
    "        self.accounts = get_challenger_player_id(summonerId)\n",
    "        #Finds the puuid of the player\n",
    "        self.puuid = self.accounts['puuid']\n",
    "        #Finds the players summoner level\n",
    "        self.summonerLevel = self.accounts['summonerLevel']\n",
    "        \n",
    "        #Returns a list of matches the player has played based on the parameters in the get_matches function\n",
    "        self.matches = get_matches(self.puuid)\n",
    "        \n",
    "        #Total games played by this summoner on this specific patch\n",
    "        self.total_matches = len(self.matches)\n",
    "        \n",
    "    "
   ]
  },
  {
   "cell_type": "code",
   "execution_count": 549,
   "id": "7cbce24f-f97a-47bb-9fa9-57271a3387f6",
   "metadata": {
    "tags": []
   },
   "outputs": [
    {
     "name": "stdout",
     "output_type": "stream",
     "text": [
      "0\n",
      "1\n",
      "2\n",
      "3\n",
      "4\n"
     ]
    }
   ],
   "source": [
    "player_info = {}\n",
    "for i in range(5):\n",
    "    temp = 'summoner' + str(i)\n",
    "    player_info[temp] = Summoner(challenger_ladder['entries'][i]['summonerId'])\n",
    "    print(i)\n",
    "    time.sleep(1)"
   ]
  },
  {
   "cell_type": "code",
   "execution_count": 551,
   "id": "8b675888-b3db-45d1-afca-e7acc7e032df",
   "metadata": {},
   "outputs": [],
   "source": [
    "def get_match_info(match):\n",
    "    url = 'https://americas.api.riotgames.com/lol/match/v5/matches/' + match\n",
    "    header_dict = {\n",
    "        \"Accept-Charset\": \"application/x-www-form-urlencoded; charset=UTF-8\",\n",
    "        \"X-Riot-Token\": api_key\n",
    "    }\n",
    "    \n",
    "    return re.get(url, headers = header_dict).json()"
   ]
  },
  {
   "cell_type": "code",
   "execution_count": 603,
   "id": "cfe69ddc-71ce-4e2c-b748-9bd7306cf35f",
   "metadata": {},
   "outputs": [],
   "source": [
    "class Match_details:\n",
    "    \n",
    "    def __init__(self, Match_id):\n",
    "        self.Match_id = Match_id\n",
    "        \n",
    "        #Calling matchesV5 api\n",
    "        self.call = get_match_info(Match_id)\n",
    "        \n",
    "        #Storing api call and filtering out uneeded data\n",
    "        self.Match_info = self.call['info']\n",
    "        \n",
    "        #list of dictionaries including stats for each player\n",
    "        self.players = self.Match_info['participants']\n",
    "        \n",
    "        #Tracking team information\n",
    "        self.team1 = self.Match_info['teams'][0]\n",
    "        self.team2 = self.Match_info['teams'][1]\n",
    "        \n",
    "        #Storing winning and losing team\n",
    "        self.team1_win = self.team1['win']\n",
    "        self.team2_win = self.team2['win']\n",
    "        \n",
    "        #Storing bans for each team\n",
    "        self.team2_bans = self.team1['bans']\n",
    "        self.team2_bans = self.team1['bans']\n",
    "      \n",
    "        #Creating a list of encrypted summoner ids\n",
    "        self.summoner_Id = []\n",
    "        for i, player in enumerate(self.players):\n",
    "            self.summoner_Id.append(player['summonerId'])\n",
    "        \n",
    "        #Creating a player class to hold data on each player in the game\n",
    "        class Player:\n",
    "    \n",
    "            def __init__(self, summoner_Id, players):\n",
    "                self.summoner_Id = summoner_Id\n",
    "                # Holds lane, champion and team of given player\n",
    "                self.players = players\n",
    "                for value in self.players:\n",
    "                    if value['summonerId'] == self.summoner_Id:\n",
    "                        self.Lane = value['individualPosition']\n",
    "                        self.championId = value['championId'] \n",
    "                        self.teamId = value['teamId']\n",
    "                        if self.teamId == 100:\n",
    "                            self.teamId = 'team1'\n",
    "                        elif self.teamId == 200:\n",
    "                            self.teamId = 'team2'\n",
    "                #Grabbing winrate/winstreak/rank/lp of the given player        \n",
    "                self.player_stats = get_player_stats(self.summoner_Id)\n",
    "                        \n",
    "        \n",
    "        #Creating a dictionary to hold all the player information (lane, champion, team)\n",
    "        self.player_position = {}\n",
    "        for i, summoner_Id in enumerate(self.summoner_Id):\n",
    "            temp = 'Player' + str(i)\n",
    "            self.player_position[temp] = Player(summoner_Id, self.players)\n",
    "            "
   ]
  },
  {
   "cell_type": "code",
   "execution_count": 598,
   "id": "ce01f76a-0864-42f1-a572-b4752279daa7",
   "metadata": {},
   "outputs": [],
   "source": [
    "#Getting matches for each player listed in player_info\n",
    "games = []\n",
    "for key in player_info:\n",
    "    games.append(player_info[key].matches)"
   ]
  },
  {
   "cell_type": "code",
   "execution_count": 599,
   "id": "144bb98e-3ca3-4586-bb85-60adbbfd3e59",
   "metadata": {},
   "outputs": [],
   "source": [
    "#Joining together the sublists (games of each player)\n",
    "total_games = []\n",
    "for a in range(len(games)):\n",
    "    for b in range (len(games[a])):\n",
    "        total_games.append(games[a][b])"
   ]
  },
  {
   "cell_type": "code",
   "execution_count": 600,
   "id": "5fc20a28-6d2b-4fd5-bf40-e1b4ff4da71f",
   "metadata": {
    "tags": []
   },
   "outputs": [],
   "source": [
    "#Finding unique games\n",
    "total_games = list(set(total_games))"
   ]
  },
  {
   "cell_type": "code",
   "execution_count": 601,
   "id": "be01b348-d0d1-48a9-bfe4-5c1e035b8258",
   "metadata": {
    "tags": []
   },
   "outputs": [],
   "source": [
    "#API request to get player winrates etc.\n",
    "def get_player_stats(summoner_id):\n",
    "    url = 'https://na1.api.riotgames.com/lol/league/v4/entries/by-summoner/' + summoner_id\n",
    "    header_dict = {\n",
    "        \"Accept-Charset\": \"application/x-www-form-urlencoded; charset=UTF-8\",\n",
    "        \"X-Riot-Token\": api_key\n",
    "    }\n",
    "    return re.get(url, headers = header_dict).json()"
   ]
  },
  {
   "cell_type": "code",
   "execution_count": 604,
   "id": "bd3df576-8d77-4780-8f03-534a2ffcd996",
   "metadata": {},
   "outputs": [
    {
     "name": "stdout",
     "output_type": "stream",
     "text": [
      "0\n",
      "1\n",
      "2\n",
      "3\n",
      "4\n",
      "5\n",
      "6\n",
      "7\n",
      "8\n",
      "9\n",
      "10\n",
      "11\n",
      "12\n",
      "13\n",
      "14\n",
      "15\n",
      "16\n",
      "17\n",
      "18\n",
      "19\n",
      "20\n",
      "21\n",
      "22\n",
      "23\n",
      "24\n",
      "25\n",
      "26\n",
      "27\n",
      "28\n",
      "29\n",
      "30\n",
      "31\n",
      "32\n",
      "33\n",
      "34\n",
      "35\n",
      "36\n",
      "37\n",
      "38\n",
      "39\n",
      "40\n",
      "41\n",
      "42\n",
      "43\n",
      "44\n",
      "45\n",
      "46\n",
      "47\n",
      "48\n",
      "49\n",
      "50\n",
      "51\n",
      "52\n",
      "53\n",
      "54\n",
      "55\n",
      "56\n",
      "57\n",
      "58\n",
      "59\n",
      "60\n",
      "61\n",
      "62\n",
      "63\n",
      "64\n",
      "65\n",
      "66\n",
      "67\n",
      "68\n",
      "69\n",
      "70\n",
      "71\n",
      "72\n",
      "73\n",
      "74\n",
      "75\n",
      "76\n",
      "77\n",
      "78\n",
      "79\n",
      "80\n",
      "81\n",
      "82\n",
      "83\n",
      "84\n",
      "85\n",
      "86\n",
      "87\n",
      "88\n",
      "89\n",
      "90\n",
      "91\n",
      "92\n",
      "93\n",
      "94\n",
      "95\n",
      "96\n",
      "97\n",
      "98\n",
      "99\n",
      "100\n",
      "101\n",
      "102\n",
      "103\n",
      "104\n",
      "105\n",
      "106\n",
      "107\n",
      "108\n",
      "CPU times: total: 19.1 s\n",
      "Wall time: 47min 39s\n"
     ]
    }
   ],
   "source": [
    "%%time\n",
    "games = {}\n",
    "for i, game in enumerate(total_games):  \n",
    "    temp = 'Game' + str(i)\n",
    "    games[temp] = Match_details(game)\n",
    "    print(i)\n",
    "    time.sleep(22)"
   ]
  },
  {
   "cell_type": "code",
   "execution_count": 596,
   "id": "f038665b-a8e6-4720-83ea-7ddb7b2927ff",
   "metadata": {
    "tags": []
   },
   "outputs": [
    {
     "data": {
      "text/plain": [
       "109"
      ]
     },
     "execution_count": 596,
     "metadata": {},
     "output_type": "execute_result"
    }
   ],
   "source": [
    "len(total_games)"
   ]
  },
  {
   "cell_type": "code",
   "execution_count": null,
   "id": "5fab064a-bf3e-4d2d-9d58-efa9ca5514d8",
   "metadata": {},
   "outputs": [],
   "source": []
  }
 ],
 "metadata": {
  "kernelspec": {
   "display_name": "League_environment",
   "language": "python",
   "name": "league_environment"
  },
  "language_info": {
   "codemirror_mode": {
    "name": "ipython",
    "version": 3
   },
   "file_extension": ".py",
   "mimetype": "text/x-python",
   "name": "python",
   "nbconvert_exporter": "python",
   "pygments_lexer": "ipython3",
   "version": "3.9.12"
  }
 },
 "nbformat": 4,
 "nbformat_minor": 5
}
